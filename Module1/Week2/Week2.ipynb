{
  "nbformat": 4,
  "nbformat_minor": 0,
  "metadata": {
    "colab": {
      "provenance": []
    },
    "kernelspec": {
      "name": "python3",
      "display_name": "Python 3"
    },
    "language_info": {
      "name": "python"
    }
  },
  "cells": [
    {
      "cell_type": "code",
      "execution_count": null,
      "metadata": {
        "colab": {
          "base_uri": "https://localhost:8080/"
        },
        "id": "hJAI_Vd7V7JV",
        "outputId": "492808b5-0700-471f-f2bb-617cf073a9e5"
      },
      "outputs": [
        {
          "output_type": "stream",
          "name": "stdout",
          "text": [
            "[3, 4, 5]\n",
            "5\n",
            "[4, 5, 1]\n",
            "5\n",
            "[5, 1, -44]\n",
            "5\n",
            "[1, -44, 5]\n",
            "5\n",
            "[-44, 5, 10]\n",
            "10\n",
            "[5, 10, 12]\n",
            "12\n",
            "[10, 12, 33]\n",
            "33\n",
            "[12, 33, 1]\n",
            "33\n"
          ]
        }
      ],
      "source": [
        "num_list = [3, 4, 5, 1, -44 , 5 ,10, 12 ,33, 1]\n",
        "k = 3\n",
        "lit = []\n",
        "for i in num_list:\n",
        "  lit.append(i)\n",
        "  if len(lit) == k:\n",
        "    print(lit)\n",
        "    print(max(lit))\n",
        "    del lit[0]\n"
      ]
    },
    {
      "cell_type": "code",
      "source": [
        "char = 'Babby'\n",
        "dicti = {}\n",
        "for i in char:\n",
        "  print(i)\n",
        "  if i in dicti:\n",
        "    dicti[i] += 1\n",
        "  else:\n",
        "    dicti[i] = 1\n",
        "print(dicti)"
      ],
      "metadata": {
        "colab": {
          "base_uri": "https://localhost:8080/"
        },
        "id": "5Pjki5ohW14s",
        "outputId": "c89b0653-7fb8-4583-96d5-206c9378066f"
      },
      "execution_count": null,
      "outputs": [
        {
          "output_type": "stream",
          "name": "stdout",
          "text": [
            "B\n",
            "a\n",
            "b\n",
            "b\n",
            "y\n",
            "{'B': 1, 'a': 1, 'b': 2, 'y': 1}\n"
          ]
        }
      ]
    },
    {
      "cell_type": "code",
      "source": [
        "def reg(text):\n",
        "  text = text.lower()\n",
        "  text = text.replace(\",\",\" \").replace(\".\",\" \")\n",
        "  word = text.split()\n",
        "  return word\n",
        "word = reg(\"I love AI Viet Nam, AI 1234. Ai Dep Trai\")\n",
        "result = {}\n",
        "for i in word:\n",
        "  if i in result:\n",
        "    result[i] += 1\n",
        "  else:\n",
        "    result[i] = 1\n",
        "print(result)\n"
      ],
      "metadata": {
        "colab": {
          "base_uri": "https://localhost:8080/"
        },
        "id": "gFIbIOGNfNYf",
        "outputId": "ada09868-8ebc-4d0b-cc3d-93292f53a977"
      },
      "execution_count": null,
      "outputs": [
        {
          "output_type": "stream",
          "name": "stdout",
          "text": [
            "{'i': 1, 'love': 1, 'ai': 3, 'viet': 1, 'nam': 1, '1234': 1, 'dep': 1, 'trai': 1}\n"
          ]
        }
      ]
    },
    {
      "cell_type": "code",
      "source": [
        "source = 'hola'\n",
        "target = 'hello'\n",
        "def edit_distance(source, target):\n",
        "  distance = []\n",
        "  for idx in range(len(source) + 1):\n",
        "    row = [0] * (len(target) + 1)\n",
        "    distance.append(row)\n",
        "  print(distance)\n",
        "  for idx in range(len(source) + 1):\n",
        "    distance[idx][0] = idx\n",
        "  for idx in range(len(target) + 1):\n",
        "    distance[0][idx] = idx\n",
        "\n",
        "  del_cost = 0\n",
        "  ins_cost = 0\n",
        "  sub_cost = 0\n",
        "  for idx in range(1,len(source) + 1):\n",
        "    for idy in range(1,len(target) + 1):\n",
        "      if source[idx-1] == target[idy-1]:\n",
        "        distance[idx][idy] = distance[idx-1][idy-1]\n",
        "      else:\n",
        "        del_cost = distance[idx-1][idy]\n",
        "        ins_cost = distance[idx][idy-1]\n",
        "        sub_cost = distance[idx-1][idy-1]\n",
        "        if (del_cost <= ins_cost) and (del_cost <= sub_cost):\n",
        "          distance[idx][idy] = del_cost + 1\n",
        "        elif (ins_cost <= del_cost) and (ins_cost <= sub_cost):\n",
        "          distance[idx][idy] = ins_cost + 1\n",
        "        else:\n",
        "          distance[idx][idy] = sub_cost + 1\n",
        "  edit_distances = distance[len(source)][len(target)]\n",
        "  print(distance)\n",
        "  return edit_distances\n",
        "\n",
        "edit_distance(source,target)"
      ],
      "metadata": {
        "colab": {
          "base_uri": "https://localhost:8080/"
        },
        "id": "9TMOt-wRf1PG",
        "outputId": "37bee8a1-6d63-4b05-adf9-40bdae65b924"
      },
      "execution_count": null,
      "outputs": [
        {
          "output_type": "stream",
          "name": "stdout",
          "text": [
            "[[0, 0, 0, 0, 0, 0], [0, 0, 0, 0, 0, 0], [0, 0, 0, 0, 0, 0], [0, 0, 0, 0, 0, 0], [0, 0, 0, 0, 0, 0]]\n",
            "[[0, 1, 2, 3, 4, 5], [1, 0, 1, 2, 3, 4], [2, 1, 1, 2, 3, 3], [3, 2, 2, 1, 2, 3], [4, 3, 3, 2, 2, 3]]\n"
          ]
        },
        {
          "output_type": "execute_result",
          "data": {
            "text/plain": [
              "3"
            ]
          },
          "metadata": {},
          "execution_count": 1
        }
      ]
    }
  ]
}