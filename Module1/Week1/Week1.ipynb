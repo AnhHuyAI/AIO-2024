{
  "nbformat": 4,
  "nbformat_minor": 0,
  "metadata": {
    "colab": {
      "provenance": []
    },
    "kernelspec": {
      "name": "python3",
      "display_name": "Python 3"
    },
    "language_info": {
      "name": "python"
    }
  },
  "cells": [
    {
      "cell_type": "markdown",
      "source": [
        "# **Exercise**"
      ],
      "metadata": {
        "id": "odGnjEptVL7K"
      }
    },
    {
      "cell_type": "code",
      "source": [
        "def classfications(tp,fp,fn):\n",
        "  # Kiểm tra là int\n",
        "  if not isinstance (tp,int):\n",
        "    print(\"tp must be int\")\n",
        "  if not isinstance(fp,int):\n",
        "    print(\"fp must be int\")\n",
        "  if not isinstance(fn,int):\n",
        "    print(\"fn must be int\")\n",
        "\n",
        "  # kiểm tra có lớn hơn 0 không :\n",
        "  if tp>0 and fp>0 and fn>0:\n",
        "    precision = tp/(tp+fp)\n",
        "    recall = tp/(tp+fn)\n",
        "    f1 = 2*(precision*recall)/(precision+recall)\n",
        "    return precision,recall,f1\n",
        "\n",
        "  # Nếu không thì thoát hàng và dừng chương trình\n",
        "  else:\n",
        "    return None\n",
        "\n",
        "# Gọi hàm\n",
        "classfications(2,4,5)"
      ],
      "metadata": {
        "colab": {
          "base_uri": "https://localhost:8080/"
        },
        "id": "FE42K56eVmj-",
        "outputId": "7d39dce6-9a3c-41e2-811b-e599fecea82a"
      },
      "execution_count": null,
      "outputs": [
        {
          "output_type": "execute_result",
          "data": {
            "text/plain": [
              "(0.3333333333333333, 0.2857142857142857, 0.30769230769230765)"
            ]
          },
          "metadata": {},
          "execution_count": 5
        }
      ]
    },
    {
      "cell_type": "code",
      "source": [
        "import numpy as np\n",
        "x = input(\"Nhập vào 1 số :\")\n",
        "if x.isnumeric():\n",
        "  print(\"True\")\n",
        "  x = float(x)\n",
        "else:\n",
        "  print(\"false\")\n",
        "\n",
        "activationFunction = input(\"Please enter the activation function (sigmoid, relu, elu): \")\n",
        "\n",
        "\n",
        "def acfuntion(x, activationFunction):\n",
        "    if activationFunction == \"sigmoid\":\n",
        "      return 1/(1+np.exp(-x))\n",
        "    elif activationFunction == \"relu\":\n",
        "      return max(0,x)\n",
        "    elif activationFunction == \"elu\":\n",
        "      return max(0,x)\n",
        "    else:\n",
        "      print(\"Sai rồi\" + activationFunction + \"không phải.Hãy chỉ nhập (sigmoid, relu, elu):\")\n",
        "\n",
        "\n",
        "acfuntion(x,activationFunction)"
      ],
      "metadata": {
        "colab": {
          "base_uri": "https://localhost:8080/"
        },
        "id": "iNIWcS1GZ7fG",
        "outputId": "d39036fb-6b4f-42c4-dcc9-abca7efeb456"
      },
      "execution_count": null,
      "outputs": [
        {
          "name": "stdout",
          "output_type": "stream",
          "text": [
            "Nhập vào 1 số :3\n",
            "True\n",
            "Please enter the activation function (sigmoid, relu, elu): sigmoid\n"
          ]
        },
        {
          "output_type": "execute_result",
          "data": {
            "text/plain": [
              "0.9525741268224334"
            ]
          },
          "metadata": {},
          "execution_count": 9
        }
      ]
    },
    {
      "cell_type": "code",
      "source": [
        "import random\n",
        "def calc_mae(N):\n",
        "  mae = 0\n",
        "  for i in range(N):\n",
        "    y = random.random()\n",
        "    yhat = random.random()\n",
        "    print(f\"y= {y} | yhat = {yhat}\")\n",
        "    abs_error = abs(y-yhat)\n",
        "    mae += abs_error\n",
        "  mae = mae / N\n",
        "  return mae\n",
        "\n",
        "N = int(input(\"Nhập số lượng dữ liệu :\"))\n",
        "calc_mae(N)\n"
      ],
      "metadata": {
        "id": "LpQUNMtLmU4k",
        "colab": {
          "base_uri": "https://localhost:8080/"
        },
        "outputId": "e5aaf36a-f935-4b34-80cb-3d1b8edd22e0"
      },
      "execution_count": null,
      "outputs": [
        {
          "output_type": "stream",
          "name": "stdout",
          "text": [
            "Nhập số lượng dữ liệu :1\n",
            "y= 2 | yhat = 1\n"
          ]
        },
        {
          "output_type": "execute_result",
          "data": {
            "text/plain": [
              "1.0"
            ]
          },
          "metadata": {},
          "execution_count": 12
        }
      ]
    },
    {
      "cell_type": "code",
      "source": [
        "x = float(input())\n",
        "n = int(input())\n",
        "def factorial_fcn(value):\n",
        "  res = 1\n",
        "  for i in range(1,value+1):\n",
        "    res *= (i+1)\n",
        "  return res\n",
        "\n",
        "def approx_sin(x,n):\n",
        "  sin_approx = 0\n",
        "  for i in range(n+1):\n",
        "    sin_approx += ((-1)**i)*(x**(2*i+1))/factorial_fcn(2*i+1)\n",
        "  return sin_approx\n",
        "\n",
        "approx_sin(x,n)\n",
        "\n",
        "def approx_cos(x,n):\n",
        "  cos_approx = 0\n",
        "  for i in range(n+1):\n",
        "    cos_approx += ((-1)**i)*(x**(2*i))/factorial_fcn(2*i)\n",
        "  return cos_approx\n",
        "\n",
        "def approx_sinh(x,n):\n",
        "  sinh_approx = 0\n",
        "  for i in range(n+1):\n",
        "    sinh_approx += ((x**(2*i+1))/factorial_fcn(2*i+1))\n",
        "  return sinh_approx\n",
        "\n",
        "def approx_cosh(x,n):\n",
        "  cosh_approx = 0\n",
        "  for i in range(n+1):\n",
        "    cosh_approx += ((x**(2*i))/factorial_fcn(2*i))\n",
        "  return cosh_approx\n",
        "\n",
        "def approx_cosh(x,n):\n",
        "  cosh_approx = 0\n",
        "  for i in range(n+1):\n",
        "    cosh_approx += ((x**(2*i))/factorial_fcn(2*i))\n",
        "  return cosh_approx\n",
        "\n",
        "\n",
        "approx_cos(x,n)\n",
        "approx_sinh(x,n)\n",
        "approx_cosh(x,n)\n",
        "print(approx_sin(x,n))\n",
        "print(approx_cos(x,n))\n",
        "print(approx_sinh(x,n))\n",
        "print(approx_cosh(x,n))"
      ],
      "metadata": {
        "id": "EA6BOD1lns_c",
        "colab": {
          "base_uri": "https://localhost:8080/"
        },
        "outputId": "023c9268-7b0c-417f-8a9e-f2405fc53659"
      },
      "execution_count": null,
      "outputs": [
        {
          "output_type": "stream",
          "name": "stdout",
          "text": [
            "3.14\n",
            "10\n",
            "0.6369422712512356\n",
            "0.0005072143078711832\n",
            "3.367380518570285\n",
            "3.6720675256049486\n"
          ]
        }
      ]
    },
    {
      "cell_type": "code",
      "source": [
        "import math\n",
        "y = int(input())\n",
        "y_hat = int(input())\n",
        "n = int(input())\n",
        "p = int(input())\n",
        "\n",
        "def loss():\n",
        "  result = (y **(1/n))-(y_hat**(1/n))**p\n",
        "  return result\n",
        "loss()"
      ],
      "metadata": {
        "id": "rqrt0ObKsF0U",
        "colab": {
          "base_uri": "https://localhost:8080/",
          "height": 383
        },
        "outputId": "3038afe7-f5fd-4747-b459-723fd861848f"
      },
      "execution_count": null,
      "outputs": [
        {
          "name": "stdout",
          "output_type": "stream",
          "text": [
            "2\n",
            "9\n",
            "1\n",
            "1\n"
          ]
        },
        {
          "output_type": "error",
          "ename": "TypeError",
          "evalue": "unsupported operand type(s) for /: 'int' and 'str'",
          "traceback": [
            "\u001b[0;31m---------------------------------------------------------------------------\u001b[0m",
            "\u001b[0;31mTypeError\u001b[0m                                 Traceback (most recent call last)",
            "\u001b[0;32m<ipython-input-10-ba9fa7c78c75>\u001b[0m in \u001b[0;36m<cell line: 10>\u001b[0;34m()\u001b[0m\n\u001b[1;32m      8\u001b[0m   \u001b[0mresult\u001b[0m \u001b[0;34m=\u001b[0m \u001b[0;34m(\u001b[0m\u001b[0my\u001b[0m \u001b[0;34m**\u001b[0m\u001b[0;34m(\u001b[0m\u001b[0;36m1\u001b[0m\u001b[0;34m/\u001b[0m\u001b[0mn\u001b[0m\u001b[0;34m)\u001b[0m\u001b[0;34m)\u001b[0m\u001b[0;34m-\u001b[0m\u001b[0;34m(\u001b[0m\u001b[0my_hat\u001b[0m\u001b[0;34m**\u001b[0m\u001b[0;34m(\u001b[0m\u001b[0;36m1\u001b[0m\u001b[0;34m/\u001b[0m\u001b[0mn\u001b[0m\u001b[0;34m)\u001b[0m\u001b[0;34m)\u001b[0m\u001b[0;34m**\u001b[0m\u001b[0mp\u001b[0m\u001b[0;34m\u001b[0m\u001b[0;34m\u001b[0m\u001b[0m\n\u001b[1;32m      9\u001b[0m   \u001b[0;32mreturn\u001b[0m \u001b[0mresult\u001b[0m\u001b[0;34m\u001b[0m\u001b[0;34m\u001b[0m\u001b[0m\n\u001b[0;32m---> 10\u001b[0;31m \u001b[0mloss\u001b[0m\u001b[0;34m(\u001b[0m\u001b[0;34m)\u001b[0m\u001b[0;34m\u001b[0m\u001b[0;34m\u001b[0m\u001b[0m\n\u001b[0m",
            "\u001b[0;32m<ipython-input-10-ba9fa7c78c75>\u001b[0m in \u001b[0;36mloss\u001b[0;34m()\u001b[0m\n\u001b[1;32m      6\u001b[0m \u001b[0;34m\u001b[0m\u001b[0m\n\u001b[1;32m      7\u001b[0m \u001b[0;32mdef\u001b[0m \u001b[0mloss\u001b[0m\u001b[0;34m(\u001b[0m\u001b[0;34m)\u001b[0m\u001b[0;34m:\u001b[0m\u001b[0;34m\u001b[0m\u001b[0;34m\u001b[0m\u001b[0m\n\u001b[0;32m----> 8\u001b[0;31m   \u001b[0mresult\u001b[0m \u001b[0;34m=\u001b[0m \u001b[0;34m(\u001b[0m\u001b[0my\u001b[0m \u001b[0;34m**\u001b[0m\u001b[0;34m(\u001b[0m\u001b[0;36m1\u001b[0m\u001b[0;34m/\u001b[0m\u001b[0mn\u001b[0m\u001b[0;34m)\u001b[0m\u001b[0;34m)\u001b[0m\u001b[0;34m-\u001b[0m\u001b[0;34m(\u001b[0m\u001b[0my_hat\u001b[0m\u001b[0;34m**\u001b[0m\u001b[0;34m(\u001b[0m\u001b[0;36m1\u001b[0m\u001b[0;34m/\u001b[0m\u001b[0mn\u001b[0m\u001b[0;34m)\u001b[0m\u001b[0;34m)\u001b[0m\u001b[0;34m**\u001b[0m\u001b[0mp\u001b[0m\u001b[0;34m\u001b[0m\u001b[0;34m\u001b[0m\u001b[0m\n\u001b[0m\u001b[1;32m      9\u001b[0m   \u001b[0;32mreturn\u001b[0m \u001b[0mresult\u001b[0m\u001b[0;34m\u001b[0m\u001b[0;34m\u001b[0m\u001b[0m\n\u001b[1;32m     10\u001b[0m \u001b[0mloss\u001b[0m\u001b[0;34m(\u001b[0m\u001b[0;34m)\u001b[0m\u001b[0;34m\u001b[0m\u001b[0;34m\u001b[0m\u001b[0m\n",
            "\u001b[0;31mTypeError\u001b[0m: unsupported operand type(s) for /: 'int' and 'str'"
          ]
        }
      ]
    }
  ]
}