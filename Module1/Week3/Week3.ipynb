{
  "nbformat": 4,
  "nbformat_minor": 0,
  "metadata": {
    "colab": {
      "provenance": []
    },
    "kernelspec": {
      "name": "python3",
      "display_name": "Python 3"
    },
    "language_info": {
      "name": "python"
    }
  },
  "cells": [
    {
      "cell_type": "code",
      "execution_count": 25,
      "metadata": {
        "colab": {
          "base_uri": "https://localhost:8080/"
        },
        "id": "nzg1u01yusbc",
        "outputId": "e410b40a-4038-43e7-be3c-0671705a0ef3"
      },
      "outputs": [
        {
          "output_type": "execute_result",
          "data": {
            "text/plain": [
              "tensor([0.7054, 0.0351, 0.2595])"
            ]
          },
          "metadata": {},
          "execution_count": 25
        }
      ],
      "source": [
        "import torch\n",
        "import torch.nn as nn\n",
        "data = torch.Tensor([5,2,4])\n",
        "data\n",
        "softmax_function = nn.Softmax(dim=0)\n",
        "output = softmax_function(data)\n",
        "output\n",
        "class StableSoftmax(nn.Module):\n",
        "  def __init__(self):\n",
        "    super().__init__()\n",
        "\n",
        "\n",
        "  def forward(self, x):\n",
        "    c = torch.max(x,dim=0)\n",
        "    x_exp = torch.exp(x-c.values)\n",
        "    total = x_exp.sum(0, keepdims=True)\n",
        "    return x_exp/total\n",
        "\n",
        "stable_softmax = StableSoftmax()\n",
        "output = stable_softmax(data)\n",
        "output"
      ]
    },
    {
      "cell_type": "code",
      "source": [
        "from abc import ABC, abstractmethod\n",
        "class Person(ABC):\n",
        "  def __init__(self,name,yob):\n",
        "    self._name = name\n",
        "    self._yob = yob\n",
        "\n",
        "    @abstractmethod\n",
        "    def describe(self):\n",
        "      pass\n",
        "class student(Person):\n",
        "  def __init__(self,name,yob,grade):\n",
        "    super().__init__(name=name,yob=yob)\n",
        "    self._grade = grade\n",
        "\n",
        "  def describe(self):\n",
        "    print(f\"name: {self._name}, yob: {self._yob}, grade: {self._grade}\")\n",
        "\n",
        "class teacher(Person):\n",
        "  def __init__(self,name,yob,subject):\n",
        "    super().__init__(name=name,yob=yob)\n",
        "    self._subject = subject\n",
        "\n",
        "  def describe(self):\n",
        "    print(f\"name: {self._name}, yob: {self._yob}, grade: {self._subject}\")\n",
        "class doctor(Person):\n",
        "  def __init__(self,name,yob,specialist):\n",
        "    super().__init__(name=name,yob=yob)\n",
        "    self._specialist = specialist\n",
        "\n",
        "  def describe(self):\n",
        "    print(f\"name: {self._name}, yob: {self._yob}, grade: {self._specialist}\")\n",
        "\n",
        "class Ward:\n",
        "  def __init__(self,name):\n",
        "    self._name = name\n",
        "    self.__list_people= list()\n",
        "\n",
        "  def add_person(self,person: Person):\n",
        "      self.__list_people.append(person)\n",
        "\n",
        "  def describe(self):\n",
        "      print(f'Name: {self._name}')\n",
        "      for person in self.__list_people:\n",
        "        person.describe()\n",
        "\n",
        "  def count_doctor(self):\n",
        "    counter = 0\n",
        "    for person in self.__list_people:\n",
        "      if isinstance(person,doctor):\n",
        "        counter += 1\n",
        "    return counter\n",
        "\n",
        "  def sort_yob(self):\n",
        "    self.__list_people.sort(key=lambda x: x.yob())\n",
        "  def compute_average(self):\n",
        "    total = 0\n",
        "    for person in self.__list_people:\n",
        "      total += person.yob()\n",
        "    return total/len(self.__list_people)\n",
        "\n",
        "studen1 = student(\"Huy\", 2002, 3)\n",
        "student.describe(studen1)\n",
        "doctor1 = doctor(\"La\", 1999, 3)\n",
        "doctor1.describe()\n",
        "teacher1 = teacher(\"Huy\", 2022, 3)\n",
        "teacher1.describe()\n",
        "ward1 = Ward('Ward1')\n",
        "ward1.add_person(studen1)\n",
        "ward1.add_person(teacher1)\n",
        "ward1.add_person(doctor1)\n",
        "ward1.describe()"
      ],
      "metadata": {
        "colab": {
          "base_uri": "https://localhost:8080/"
        },
        "id": "t4-7EmKdyukK",
        "outputId": "42d6f1e2-561d-479e-b5bb-b5f22d240d1a"
      },
      "execution_count": 22,
      "outputs": [
        {
          "output_type": "stream",
          "name": "stdout",
          "text": [
            "name: Huy, yob: 2002, grade: 3\n",
            "name: La, yob: 1999, grade: 3\n",
            "name: Huy, yob: 2022, grade: 3\n",
            "Name: Ward1\n",
            "name: Huy, yob: 2002, grade: 3\n",
            "name: Huy, yob: 2022, grade: 3\n",
            "name: La, yob: 1999, grade: 3\n"
          ]
        }
      ]
    },
    {
      "cell_type": "code",
      "source": [
        "class Mystack:\n",
        "  def __init__(self, capacity):\n",
        "    self.__capacity = capacity\n",
        "    self.__stack = []\n",
        "  def is_empty(self):\n",
        "    return len(self.__stack) == 0\n",
        "\n",
        "  def is_full(self):\n",
        "    return len(self.__stack) == self.__capacity\n",
        "\n",
        "  def push(self, value):\n",
        "    if self.is_full():\n",
        "      print(\"Stack is full\")\n",
        "    else:\n",
        "      self.__stack.append(value)\n",
        "\n",
        "  def pop(self):\n",
        "    if self.is_empty():\n",
        "      print(\"Stack is empty\")\n",
        "    else:\n",
        "      self.__stack.pop()\n",
        "\n",
        "  def top(self):\n",
        "    if self.is_empty():\n",
        "      print(\"Stack is empty\")\n",
        "    else:\n",
        "      return self.__stack[-1]\n",
        "\n",
        "my_stack = Mystack(3)\n",
        "my_stack.is_empty()"
      ],
      "metadata": {
        "colab": {
          "base_uri": "https://localhost:8080/"
        },
        "id": "EDAsml6DClwq",
        "outputId": "3b9e8d32-1ee8-47fc-ec7f-e35432c48ffb"
      },
      "execution_count": 24,
      "outputs": [
        {
          "output_type": "execute_result",
          "data": {
            "text/plain": [
              "True"
            ]
          },
          "metadata": {},
          "execution_count": 24
        }
      ]
    },
    {
      "cell_type": "code",
      "source": [
        "class MyQueue:\n",
        "  def __init__(self, capacity):\n",
        "    self.__capacity = capacity\n",
        "    self.__queue = []\n",
        "  def is_empty(self):\n",
        "    return len(self.__queue) == 0\n",
        "\n",
        "  def is_full(self):\n",
        "    return len(self.__queue) == self.__capacity\n",
        "\n",
        "  def enqueue(self, value):\n",
        "    if self.is_full():\n",
        "      print(\"Queue is full\")\n",
        "    else:\n",
        "      self.__queue.append(value)\n",
        "  def dequeue(self):\n",
        "    if self.is_empty():\n",
        "      print(\"Queue is empty\")\n",
        "    else:\n",
        "      self.__queue.pop[0]"
      ],
      "metadata": {
        "id": "NFPxWuW3EbIt"
      },
      "execution_count": null,
      "outputs": []
    }
  ]
}